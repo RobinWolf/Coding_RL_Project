{
 "cells": [
  {
   "cell_type": "code",
   "execution_count": 1,
   "id": "b358710c-7fbd-482a-84a8-d220cda6de35",
   "metadata": {},
   "outputs": [
    {
     "name": "stdout",
     "output_type": "stream",
     "text": [
      "WARNING:tensorflow:From c:\\Users\\robin\\anaconda3\\Lib\\site-packages\\keras\\src\\losses.py:2976: The name tf.losses.sparse_softmax_cross_entropy is deprecated. Please use tf.compat.v1.losses.sparse_softmax_cross_entropy instead.\n",
      "\n"
     ]
    },
    {
     "name": "stderr",
     "output_type": "stream",
     "text": [
      "c:\\Users\\robin\\anaconda3\\Lib\\site-packages\\tensorflow_addons\\utils\\tfa_eol_msg.py:23: UserWarning: \n",
      "\n",
      "TensorFlow Addons (TFA) has ended development and introduction of new features.\n",
      "TFA has entered a minimal maintenance and release mode until a planned end of life in May 2024.\n",
      "Please modify downstream libraries to take dependencies from other repositories in our TensorFlow community (e.g. Keras, Keras-CV, and Keras-NLP). \n",
      "\n",
      "For more information see: https://github.com/tensorflow/addons/issues/2807 \n",
      "\n",
      "  warnings.warn(\n",
      "c:\\Users\\robin\\anaconda3\\Lib\\site-packages\\tensorflow_addons\\utils\\ensure_tf_install.py:53: UserWarning: Tensorflow Addons supports using Python ops for all Tensorflow versions above or equal to 2.12.0 and strictly below 2.15.0 (nightly versions are not supported). \n",
      " The versions of TensorFlow you are currently using is 2.15.0 and is not supported. \n",
      "Some things might work, some things might not.\n",
      "If you were to encounter a bug, do not file an issue.\n",
      "If you want to make sure you're using a tested and supported configuration, either change the TensorFlow version or the TensorFlow Addons's version. \n",
      "You can find the compatibility matrix in TensorFlow Addon's readme:\n",
      "https://github.com/tensorflow/addons\n",
      "  warnings.warn(\n"
     ]
    }
   ],
   "source": [
    "import gymnasium as gym\n",
    "import numpy as np\n",
    "import tensorflow as tf\n",
    "import tensorflow_addons as tfa\n",
    "#import tensorflow_probability as tfp\n",
    "import tensorboard\n",
    "#from IPython.display import clear_output\n",
    "#import matplotlib.pyplot as plt\n",
    "import os\n",
    "import datetime\n",
    "import pygame\n",
    "import mujoco\n",
    "\n",
    "\n",
    "physical_devices = tf.config.list_physical_devices('GPU') \n",
    "for device in physical_devices:\n",
    "    tf.config.experimental.set_memory_growth(device, True)\n",
    "    "
   ]
  },
  {
   "cell_type": "markdown",
   "id": "be1b3b28",
   "metadata": {},
   "source": [
    "## TODO erklären was für continuous geändert werden musste"
   ]
  },
  {
   "cell_type": "markdown",
   "id": "f73375a4",
   "metadata": {},
   "source": [
    "## Add a Connection to Tensorboard -> online visualization"
   ]
  },
  {
   "cell_type": "code",
   "execution_count": 2,
   "id": "eadbbf8b",
   "metadata": {},
   "outputs": [],
   "source": [
    "# refers to log data and model data -> below for model data\n",
    "jetzt = datetime.datetime.now()\n",
    "datum_uhrzeit = jetzt.strftime(\"%Y%m%d_%H%M%S\")\n",
    "savedir = f'model\\\\hopper_new_training_strat_8updates_{datum_uhrzeit}'\n",
    "os.makedirs('model', exist_ok=True)\n",
    "os.makedirs(savedir, exist_ok=True)"
   ]
  },
  {
   "cell_type": "code",
   "execution_count": 3,
   "id": "b2a63216",
   "metadata": {},
   "outputs": [
    {
     "name": "stdout",
     "output_type": "stream",
     "text": [
      "The directory model\\hopper_new_training_strat_8updates_20240109_111704\\log exists.\n",
      "c:\\#_FESTPLATTE\\06_Studium\\Master_HKA\\Semesterdateien\\Semester 1\\Roboterprogrammierung-Hein\\Projekt\\Coding\\einheitlich\\model\\hopper_new_training_strat_8updates_20240109_111704\\log\n"
     ]
    }
   ],
   "source": [
    "log_dir1 = f\"{savedir}\\\\log\"\n",
    "os.makedirs(log_dir1, exist_ok=True)\n",
    "\n",
    "if os.path.exists(log_dir1):\n",
    "    print(f\"The directory {log_dir1} exists.\")\n",
    "    absolute_path = os.path.abspath(log_dir1)\n",
    "    print(absolute_path)\n",
    "else:\n",
    "    print(f\"The directory {log_dir1} does not exist.\")"
   ]
  },
  {
   "cell_type": "markdown",
   "id": "bc71cf6b",
   "metadata": {},
   "source": [
    "## Parameter/ Hyperparameter"
   ]
  },
  {
   "cell_type": "markdown",
   "id": "d991b4e3",
   "metadata": {},
   "source": [
    "MountainCar Continuous: max 1000 steps per Episode\n",
    "Hopper: max 1000 steps per Episode\n",
    "\n",
    "--> in stable baselines ist andere Trainingsstrategie angewendet. Es werden steps gesampelt anstatt rollouts (die Datenmenge zum Training ist immer gleich, egal wie lange die Episoden sind --> gerade zu Beginn daher wenig dten zum trainiern)"
   ]
  },
  {
   "cell_type": "code",
   "execution_count": 4,
   "id": "9e8f2cb8",
   "metadata": {},
   "outputs": [],
   "source": [
    "# Parameter for the actor and critic networks\n",
    "actor_learning_rate = 0.0002   # learning rate for the actor -----------> changed due to nan issue while training\n",
    "critic_learning_rate = 0.001    # learning rate for the critic\n",
    "\n",
    "# Parameter for the agent\n",
    "gamma = 0.99                    # discount factor\n",
    "epsilon = 0.2                   # clip range for the actor loss function\n",
    "\n",
    "# Parameter for training\n",
    "epochs =  100                 # number of learning iterations\n",
    "#n_rollouts = 5                  # number of episodes/ rollouts to collect experience\n",
    "n_steps = 2048                  # number of steps per epoch -> issue wth hopper while using rollouts\n",
    "batch_size = 32                  # number of samples per learning step\n",
    "learn_steps = 8                # number of learning steps per epoch"
   ]
  },
  {
   "cell_type": "markdown",
   "id": "b4b71200",
   "metadata": {},
   "source": [
    "## Environment initialisieren"
   ]
  },
  {
   "cell_type": "code",
   "execution_count": 5,
   "id": "8ff7e92c",
   "metadata": {},
   "outputs": [],
   "source": [
    "from CustomMtnCarEnvironments import CustomMountainCarEnv_acceleration\n",
    "\n",
    "#env = gym.make('MountainCarContinuous-v0', render_mode='rgb_array')  #human fur pygame gui -> very laggy!\n",
    "#env = CustomMountainCarEnv_acceleration(env)\n",
    "\n",
    "env = gym.make('Hopper-v4', render_mode='rgb_array')  #human fur pygame gui -> slows down training!"
   ]
  },
  {
   "cell_type": "markdown",
   "id": "1f541dfc",
   "metadata": {},
   "source": [
    "## PPO-Agent initialisieren"
   ]
  },
  {
   "cell_type": "code",
   "execution_count": 6,
   "id": "6bc6109e",
   "metadata": {},
   "outputs": [
    {
     "name": "stdout",
     "output_type": "stream",
     "text": [
      "WARNING:tensorflow:From c:\\Users\\robin\\anaconda3\\Lib\\site-packages\\tensorflow_probability\\python\\internal\\backend\\numpy\\_utils.py:48: The name tf.logging.TaskLevelStatusMessage is deprecated. Please use tf.compat.v1.logging.TaskLevelStatusMessage instead.\n",
      "\n",
      "WARNING:tensorflow:From c:\\Users\\robin\\anaconda3\\Lib\\site-packages\\tensorflow_probability\\python\\internal\\backend\\numpy\\_utils.py:48: The name tf.control_flow_v2_enabled is deprecated. Please use tf.compat.v1.control_flow_v2_enabled instead.\n",
      "\n",
      "WARNING:tensorflow:From c:\\Users\\robin\\anaconda3\\Lib\\site-packages\\keras\\src\\backend.py:873: The name tf.get_default_graph is deprecated. Please use tf.compat.v1.get_default_graph instead.\n",
      "\n"
     ]
    }
   ],
   "source": [
    "from PPOAgentContinuous import PPOAgentContinuous as PPOAgent\n",
    "agent = PPOAgent(env.action_space, env.observation_space, gamma, epsilon, actor_learning_rate, critic_learning_rate)   # observation_space entpacken für obserbation_shape (siehe __init__)"
   ]
  },
  {
   "cell_type": "markdown",
   "id": "48083f6d",
   "metadata": {},
   "source": [
    "## PPO-Agent trainieren"
   ]
  },
  {
   "cell_type": "code",
   "execution_count": 7,
   "id": "fcea69d6",
   "metadata": {},
   "outputs": [
    {
     "name": "stdout",
     "output_type": "stream",
     "text": [
      "start training\n"
     ]
    }
   ],
   "source": [
    "from train_agent import training_rollouts\n",
    "from train_agent import training_steps\n",
    "#training_rollouts(env, agent, log_dir1, epochs, n_rollouts, batch_size, learn_steps, render=True)\n",
    "training_steps(env, agent, log_dir1, epochs, n_steps, batch_size, learn_steps, render=False)"
   ]
  },
  {
   "cell_type": "markdown",
   "id": "db997f26",
   "metadata": {},
   "source": [
    "## Storing and loading models"
   ]
  },
  {
   "cell_type": "code",
   "execution_count": null,
   "id": "7f418f50",
   "metadata": {},
   "outputs": [],
   "source": [
    "# save the model to h5 format\n",
    "filepath_actor = f\"{savedir}\\\\actor.h5\"\n",
    "filepath_critic = f\"{savedir}\\\\critic.h5\"\n",
    "agent.save_models(filepath_actor, filepath_critic)"
   ]
  },
  {
   "cell_type": "code",
   "execution_count": null,
   "id": "27870f8a",
   "metadata": {},
   "outputs": [
    {
     "ename": "NameError",
     "evalue": "name 'PPOAgent' is not defined",
     "output_type": "error",
     "traceback": [
      "\u001b[1;31m---------------------------------------------------------------------------\u001b[0m",
      "\u001b[1;31mNameError\u001b[0m                                 Traceback (most recent call last)",
      "Cell \u001b[1;32mIn[2], line 4\u001b[0m\n\u001b[0;32m      1\u001b[0m \u001b[38;5;66;03m# load the model from h5 format -> use new agent in new instance of the enviroment to prevent overwriting\u001b[39;00m\n\u001b[0;32m      2\u001b[0m load_env \u001b[38;5;241m=\u001b[39m gym\u001b[38;5;241m.\u001b[39mmake(\u001b[38;5;124m\"\u001b[39m\u001b[38;5;124mMountainCarContinuous-v0\u001b[39m\u001b[38;5;124m\"\u001b[39m, render_mode\u001b[38;5;241m=\u001b[39m\u001b[38;5;124m'\u001b[39m\u001b[38;5;124mrgb_array\u001b[39m\u001b[38;5;124m'\u001b[39m)\n\u001b[1;32m----> 4\u001b[0m load_agent \u001b[38;5;241m=\u001b[39m PPOAgent(env\u001b[38;5;241m.\u001b[39maction_space, env\u001b[38;5;241m.\u001b[39mobservation_space)\n\u001b[0;32m      5\u001b[0m load_agent\u001b[38;5;241m.\u001b[39m_init_networks()\n\u001b[0;32m      7\u001b[0m \u001b[38;5;66;03m# filepath_actor = f\"... .h5\"\u001b[39;00m\n\u001b[0;32m      8\u001b[0m \u001b[38;5;66;03m# filepath_critic = f\"... .h5\"\u001b[39;00m\n",
      "\u001b[1;31mNameError\u001b[0m: name 'PPOAgent' is not defined"
     ]
    }
   ],
   "source": [
    "# load the model from h5 format -> use new agent in new instance of the enviroment to prevent overwriting\n",
    "load_env = gym.make(\"MountainCarContinuous-v0\", render_mode='rgb_array')\n",
    "\n",
    "load_agent = PPOAgent(env.action_space, env.observation_space)\n",
    "load_agent._init_networks()\n",
    "\n",
    "# filepath_actor = f\"... .h5\"\n",
    "# filepath_critic = f\"... .h5\"\n",
    "\n",
    "load_agent.load_models(filepath_actor, filepath_critic)"
   ]
  },
  {
   "cell_type": "markdown",
   "id": "3c6dbba9",
   "metadata": {},
   "source": [
    "## Rendering with pygame"
   ]
  },
  {
   "cell_type": "code",
   "execution_count": null,
   "id": "99a3107c",
   "metadata": {},
   "outputs": [
    {
     "name": "stdout",
     "output_type": "stream",
     "text": [
      "Model reloaded sucessful\n"
     ]
    },
    {
     "ename": "AttributeError",
     "evalue": "'mujoco._structs.MjData' object has no attribute 'solver_iter'",
     "output_type": "error",
     "traceback": [
      "\u001b[1;31m---------------------------------------------------------------------------\u001b[0m",
      "\u001b[1;31mAttributeError\u001b[0m                            Traceback (most recent call last)",
      "Cell \u001b[1;32mIn[21], line 11\u001b[0m\n\u001b[0;32m      5\u001b[0m render_agent \u001b[38;5;241m=\u001b[39m PPOAgent(render_env\u001b[38;5;241m.\u001b[39maction_space, render_env\u001b[38;5;241m.\u001b[39mobservation_space)\n\u001b[0;32m      7\u001b[0m \u001b[38;5;66;03m# filepath_actor = f\"model/default_MountainCarContinuous_20240104_141521/actor.h5\"\u001b[39;00m\n\u001b[0;32m      8\u001b[0m \u001b[38;5;66;03m# filepath_critic = f\"model/default_MountainCarContinuous_20240104_141521/critic.h5\"\u001b[39;00m\n\u001b[0;32m      9\u001b[0m \n\u001b[0;32m     10\u001b[0m \u001b[38;5;66;03m#call the function\u001b[39;00m\n\u001b[1;32m---> 11\u001b[0m render_GUI(render_env, render_agent, filepath_actor, filepath_critic)\n",
      "File \u001b[1;32mc:\\#_FESTPLATTE\\06_Studium\\Master_HKA\\Semesterdateien\\Semester 1\\Roboterprogrammierung-Hein\\Projekt\\Coding\\einheitlich\\render_GUI.py:8\u001b[0m, in \u001b[0;36mrender_GUI\u001b[1;34m(render_env, render_agent, filepath_actor, filepath_critic)\u001b[0m\n\u001b[0;32m      6\u001b[0m render_agent\u001b[38;5;241m.\u001b[39mload_models(filepath_actor, filepath_critic)\n\u001b[0;32m      7\u001b[0m render_agent\u001b[38;5;241m.\u001b[39m_init_networks()\n\u001b[1;32m----> 8\u001b[0m render_obs,_ \u001b[38;5;241m=\u001b[39m render_env\u001b[38;5;241m.\u001b[39mreset()\n\u001b[0;32m     10\u001b[0m \u001b[38;5;66;03m# Start rendering in pyglet GUI (internal gym method which uses pyglet inthe background)\u001b[39;00m\n\u001b[0;32m     11\u001b[0m render_env\u001b[38;5;241m.\u001b[39mrender()\n",
      "File \u001b[1;32mc:\\Users\\robin\\anaconda3\\Lib\\site-packages\\gymnasium\\wrappers\\time_limit.py:75\u001b[0m, in \u001b[0;36mTimeLimit.reset\u001b[1;34m(self, **kwargs)\u001b[0m\n\u001b[0;32m     66\u001b[0m \u001b[38;5;250m\u001b[39m\u001b[38;5;124;03m\"\"\"Resets the environment with :param:`**kwargs` and sets the number of steps elapsed to zero.\u001b[39;00m\n\u001b[0;32m     67\u001b[0m \n\u001b[0;32m     68\u001b[0m \u001b[38;5;124;03mArgs:\u001b[39;00m\n\u001b[1;32m   (...)\u001b[0m\n\u001b[0;32m     72\u001b[0m \u001b[38;5;124;03m    The reset environment\u001b[39;00m\n\u001b[0;32m     73\u001b[0m \u001b[38;5;124;03m\"\"\"\u001b[39;00m\n\u001b[0;32m     74\u001b[0m \u001b[38;5;28mself\u001b[39m\u001b[38;5;241m.\u001b[39m_elapsed_steps \u001b[38;5;241m=\u001b[39m \u001b[38;5;241m0\u001b[39m\n\u001b[1;32m---> 75\u001b[0m \u001b[38;5;28;01mreturn\u001b[39;00m \u001b[38;5;28mself\u001b[39m\u001b[38;5;241m.\u001b[39menv\u001b[38;5;241m.\u001b[39mreset(\u001b[38;5;241m*\u001b[39m\u001b[38;5;241m*\u001b[39mkwargs)\n",
      "File \u001b[1;32mc:\\Users\\robin\\anaconda3\\Lib\\site-packages\\gymnasium\\wrappers\\order_enforcing.py:61\u001b[0m, in \u001b[0;36mOrderEnforcing.reset\u001b[1;34m(self, **kwargs)\u001b[0m\n\u001b[0;32m     59\u001b[0m \u001b[38;5;250m\u001b[39m\u001b[38;5;124;03m\"\"\"Resets the environment with `kwargs`.\"\"\"\u001b[39;00m\n\u001b[0;32m     60\u001b[0m \u001b[38;5;28mself\u001b[39m\u001b[38;5;241m.\u001b[39m_has_reset \u001b[38;5;241m=\u001b[39m \u001b[38;5;28;01mTrue\u001b[39;00m\n\u001b[1;32m---> 61\u001b[0m \u001b[38;5;28;01mreturn\u001b[39;00m \u001b[38;5;28mself\u001b[39m\u001b[38;5;241m.\u001b[39menv\u001b[38;5;241m.\u001b[39mreset(\u001b[38;5;241m*\u001b[39m\u001b[38;5;241m*\u001b[39mkwargs)\n",
      "File \u001b[1;32mc:\\Users\\robin\\anaconda3\\Lib\\site-packages\\gymnasium\\wrappers\\env_checker.py:57\u001b[0m, in \u001b[0;36mPassiveEnvChecker.reset\u001b[1;34m(self, **kwargs)\u001b[0m\n\u001b[0;32m     55\u001b[0m \u001b[38;5;28;01mif\u001b[39;00m \u001b[38;5;129;01mnot\u001b[39;00m \u001b[38;5;28mself\u001b[39m\u001b[38;5;241m.\u001b[39mchecked_reset:\n\u001b[0;32m     56\u001b[0m     \u001b[38;5;28mself\u001b[39m\u001b[38;5;241m.\u001b[39mchecked_reset \u001b[38;5;241m=\u001b[39m \u001b[38;5;28;01mTrue\u001b[39;00m\n\u001b[1;32m---> 57\u001b[0m     \u001b[38;5;28;01mreturn\u001b[39;00m env_reset_passive_checker(\u001b[38;5;28mself\u001b[39m\u001b[38;5;241m.\u001b[39menv, \u001b[38;5;241m*\u001b[39m\u001b[38;5;241m*\u001b[39mkwargs)\n\u001b[0;32m     58\u001b[0m \u001b[38;5;28;01melse\u001b[39;00m:\n\u001b[0;32m     59\u001b[0m     \u001b[38;5;28;01mreturn\u001b[39;00m \u001b[38;5;28mself\u001b[39m\u001b[38;5;241m.\u001b[39menv\u001b[38;5;241m.\u001b[39mreset(\u001b[38;5;241m*\u001b[39m\u001b[38;5;241m*\u001b[39mkwargs)\n",
      "File \u001b[1;32mc:\\Users\\robin\\anaconda3\\Lib\\site-packages\\gymnasium\\utils\\passive_env_checker.py:186\u001b[0m, in \u001b[0;36menv_reset_passive_checker\u001b[1;34m(env, **kwargs)\u001b[0m\n\u001b[0;32m    181\u001b[0m     logger\u001b[38;5;241m.\u001b[39mdeprecation(\n\u001b[0;32m    182\u001b[0m         \u001b[38;5;124m\"\u001b[39m\u001b[38;5;124mCurrent gymnasium version requires that `Env.reset` can be passed `options` to allow the environment initialisation to be passed additional information.\u001b[39m\u001b[38;5;124m\"\u001b[39m\n\u001b[0;32m    183\u001b[0m     )\n\u001b[0;32m    185\u001b[0m \u001b[38;5;66;03m# Checks the result of env.reset with kwargs\u001b[39;00m\n\u001b[1;32m--> 186\u001b[0m result \u001b[38;5;241m=\u001b[39m env\u001b[38;5;241m.\u001b[39mreset(\u001b[38;5;241m*\u001b[39m\u001b[38;5;241m*\u001b[39mkwargs)\n\u001b[0;32m    188\u001b[0m \u001b[38;5;28;01mif\u001b[39;00m \u001b[38;5;129;01mnot\u001b[39;00m \u001b[38;5;28misinstance\u001b[39m(result, \u001b[38;5;28mtuple\u001b[39m):\n\u001b[0;32m    189\u001b[0m     logger\u001b[38;5;241m.\u001b[39mwarn(\n\u001b[0;32m    190\u001b[0m         \u001b[38;5;124mf\u001b[39m\u001b[38;5;124m\"\u001b[39m\u001b[38;5;124mThe result returned by `env.reset()` was not a tuple of the form `(obs, info)`, where `obs` is a observation and `info` is a dictionary containing additional information. Actual type: `\u001b[39m\u001b[38;5;132;01m{\u001b[39;00m\u001b[38;5;28mtype\u001b[39m(result)\u001b[38;5;132;01m}\u001b[39;00m\u001b[38;5;124m`\u001b[39m\u001b[38;5;124m\"\u001b[39m\n\u001b[0;32m    191\u001b[0m     )\n",
      "File \u001b[1;32mc:\\Users\\robin\\anaconda3\\Lib\\site-packages\\gymnasium\\envs\\mujoco\\mujoco_env.py:155\u001b[0m, in \u001b[0;36mBaseMujocoEnv.reset\u001b[1;34m(self, seed, options)\u001b[0m\n\u001b[0;32m    152\u001b[0m info \u001b[38;5;241m=\u001b[39m \u001b[38;5;28mself\u001b[39m\u001b[38;5;241m.\u001b[39m_get_reset_info()\n\u001b[0;32m    154\u001b[0m \u001b[38;5;28;01mif\u001b[39;00m \u001b[38;5;28mself\u001b[39m\u001b[38;5;241m.\u001b[39mrender_mode \u001b[38;5;241m==\u001b[39m \u001b[38;5;124m\"\u001b[39m\u001b[38;5;124mhuman\u001b[39m\u001b[38;5;124m\"\u001b[39m:\n\u001b[1;32m--> 155\u001b[0m     \u001b[38;5;28mself\u001b[39m\u001b[38;5;241m.\u001b[39mrender()\n\u001b[0;32m    156\u001b[0m \u001b[38;5;28;01mreturn\u001b[39;00m ob, info\n",
      "File \u001b[1;32mc:\\Users\\robin\\anaconda3\\Lib\\site-packages\\gymnasium\\envs\\mujoco\\mujoco_env.py:409\u001b[0m, in \u001b[0;36mMujocoEnv.render\u001b[1;34m(self)\u001b[0m\n\u001b[0;32m    408\u001b[0m \u001b[38;5;28;01mdef\u001b[39;00m \u001b[38;5;21mrender\u001b[39m(\u001b[38;5;28mself\u001b[39m):\n\u001b[1;32m--> 409\u001b[0m     \u001b[38;5;28;01mreturn\u001b[39;00m \u001b[38;5;28mself\u001b[39m\u001b[38;5;241m.\u001b[39mmujoco_renderer\u001b[38;5;241m.\u001b[39mrender(\n\u001b[0;32m    410\u001b[0m         \u001b[38;5;28mself\u001b[39m\u001b[38;5;241m.\u001b[39mrender_mode, \u001b[38;5;28mself\u001b[39m\u001b[38;5;241m.\u001b[39mcamera_id, \u001b[38;5;28mself\u001b[39m\u001b[38;5;241m.\u001b[39mcamera_name\n\u001b[0;32m    411\u001b[0m     )\n",
      "File \u001b[1;32mc:\\Users\\robin\\anaconda3\\Lib\\site-packages\\gymnasium\\envs\\mujoco\\mujoco_rendering.py:673\u001b[0m, in \u001b[0;36mMujocoRenderer.render\u001b[1;34m(self, render_mode, camera_id, camera_name)\u001b[0m\n\u001b[0;32m    670\u001b[0m     \u001b[38;5;28;01mreturn\u001b[39;00m img\n\u001b[0;32m    672\u001b[0m \u001b[38;5;28;01melif\u001b[39;00m render_mode \u001b[38;5;241m==\u001b[39m \u001b[38;5;124m\"\u001b[39m\u001b[38;5;124mhuman\u001b[39m\u001b[38;5;124m\"\u001b[39m:\n\u001b[1;32m--> 673\u001b[0m     \u001b[38;5;28;01mreturn\u001b[39;00m viewer\u001b[38;5;241m.\u001b[39mrender()\n",
      "File \u001b[1;32mc:\\Users\\robin\\anaconda3\\Lib\\site-packages\\gymnasium\\envs\\mujoco\\mujoco_rendering.py:413\u001b[0m, in \u001b[0;36mWindowViewer.render\u001b[1;34m(self)\u001b[0m\n\u001b[0;32m    411\u001b[0m         \u001b[38;5;28mself\u001b[39m\u001b[38;5;241m.\u001b[39m_loop_count \u001b[38;5;241m=\u001b[39m \u001b[38;5;241m1\u001b[39m\n\u001b[0;32m    412\u001b[0m     \u001b[38;5;28;01mwhile\u001b[39;00m \u001b[38;5;28mself\u001b[39m\u001b[38;5;241m.\u001b[39m_loop_count \u001b[38;5;241m>\u001b[39m \u001b[38;5;241m0\u001b[39m:\n\u001b[1;32m--> 413\u001b[0m         update()\n\u001b[0;32m    414\u001b[0m         \u001b[38;5;28mself\u001b[39m\u001b[38;5;241m.\u001b[39m_loop_count \u001b[38;5;241m-\u001b[39m\u001b[38;5;241m=\u001b[39m \u001b[38;5;241m1\u001b[39m\n\u001b[0;32m    416\u001b[0m \u001b[38;5;66;03m# clear overlay\u001b[39;00m\n",
      "File \u001b[1;32mc:\\Users\\robin\\anaconda3\\Lib\\site-packages\\gymnasium\\envs\\mujoco\\mujoco_rendering.py:353\u001b[0m, in \u001b[0;36mWindowViewer.render.<locals>.update\u001b[1;34m()\u001b[0m\n\u001b[0;32m    351\u001b[0m \u001b[38;5;28;01mdef\u001b[39;00m \u001b[38;5;21mupdate\u001b[39m():\n\u001b[0;32m    352\u001b[0m     \u001b[38;5;66;03m# fill overlay items\u001b[39;00m\n\u001b[1;32m--> 353\u001b[0m     \u001b[38;5;28mself\u001b[39m\u001b[38;5;241m.\u001b[39m_create_overlay()\n\u001b[0;32m    355\u001b[0m     render_start \u001b[38;5;241m=\u001b[39m time\u001b[38;5;241m.\u001b[39mtime()\n\u001b[0;32m    356\u001b[0m     \u001b[38;5;28;01mif\u001b[39;00m \u001b[38;5;28mself\u001b[39m\u001b[38;5;241m.\u001b[39mwindow \u001b[38;5;129;01mis\u001b[39;00m \u001b[38;5;28;01mNone\u001b[39;00m:\n",
      "File \u001b[1;32mc:\\Users\\robin\\anaconda3\\Lib\\site-packages\\gymnasium\\envs\\mujoco\\mujoco_rendering.py:593\u001b[0m, in \u001b[0;36mWindowViewer._create_overlay\u001b[1;34m(self)\u001b[0m\n\u001b[0;32m    589\u001b[0m \u001b[38;5;28mself\u001b[39m\u001b[38;5;241m.\u001b[39madd_overlay(topleft, \u001b[38;5;124m\"\u001b[39m\u001b[38;5;124mToggle geomgroup visibility\u001b[39m\u001b[38;5;124m\"\u001b[39m, \u001b[38;5;124m\"\u001b[39m\u001b[38;5;124m0-4\u001b[39m\u001b[38;5;124m\"\u001b[39m)\n\u001b[0;32m    591\u001b[0m \u001b[38;5;28mself\u001b[39m\u001b[38;5;241m.\u001b[39madd_overlay(bottomleft, \u001b[38;5;124m\"\u001b[39m\u001b[38;5;124mFPS\u001b[39m\u001b[38;5;124m\"\u001b[39m, \u001b[38;5;124m\"\u001b[39m\u001b[38;5;132;01m%d\u001b[39;00m\u001b[38;5;132;01m%s\u001b[39;00m\u001b[38;5;124m\"\u001b[39m \u001b[38;5;241m%\u001b[39m (\u001b[38;5;241m1\u001b[39m \u001b[38;5;241m/\u001b[39m \u001b[38;5;28mself\u001b[39m\u001b[38;5;241m.\u001b[39m_time_per_render, \u001b[38;5;124m\"\u001b[39m\u001b[38;5;124m\"\u001b[39m))\n\u001b[0;32m    592\u001b[0m \u001b[38;5;28mself\u001b[39m\u001b[38;5;241m.\u001b[39madd_overlay(\n\u001b[1;32m--> 593\u001b[0m     bottomleft, \u001b[38;5;124m\"\u001b[39m\u001b[38;5;124mSolver iterations\u001b[39m\u001b[38;5;124m\"\u001b[39m, \u001b[38;5;28mstr\u001b[39m(\u001b[38;5;28mself\u001b[39m\u001b[38;5;241m.\u001b[39mdata\u001b[38;5;241m.\u001b[39msolver_iter \u001b[38;5;241m+\u001b[39m \u001b[38;5;241m1\u001b[39m)\n\u001b[0;32m    594\u001b[0m )\n\u001b[0;32m    595\u001b[0m \u001b[38;5;28mself\u001b[39m\u001b[38;5;241m.\u001b[39madd_overlay(\n\u001b[0;32m    596\u001b[0m     bottomleft, \u001b[38;5;124m\"\u001b[39m\u001b[38;5;124mStep\u001b[39m\u001b[38;5;124m\"\u001b[39m, \u001b[38;5;28mstr\u001b[39m(\u001b[38;5;28mround\u001b[39m(\u001b[38;5;28mself\u001b[39m\u001b[38;5;241m.\u001b[39mdata\u001b[38;5;241m.\u001b[39mtime \u001b[38;5;241m/\u001b[39m \u001b[38;5;28mself\u001b[39m\u001b[38;5;241m.\u001b[39mmodel\u001b[38;5;241m.\u001b[39mopt\u001b[38;5;241m.\u001b[39mtimestep))\n\u001b[0;32m    597\u001b[0m )\n\u001b[0;32m    598\u001b[0m \u001b[38;5;28mself\u001b[39m\u001b[38;5;241m.\u001b[39madd_overlay(bottomleft, \u001b[38;5;124m\"\u001b[39m\u001b[38;5;124mtimestep\u001b[39m\u001b[38;5;124m\"\u001b[39m, \u001b[38;5;124m\"\u001b[39m\u001b[38;5;132;01m%.5f\u001b[39;00m\u001b[38;5;124m\"\u001b[39m \u001b[38;5;241m%\u001b[39m \u001b[38;5;28mself\u001b[39m\u001b[38;5;241m.\u001b[39mmodel\u001b[38;5;241m.\u001b[39mopt\u001b[38;5;241m.\u001b[39mtimestep)\n",
      "\u001b[1;31mAttributeError\u001b[0m: 'mujoco._structs.MjData' object has no attribute 'solver_iter'"
     ]
    }
   ],
   "source": [
    "from render_GUI import render_GUI\n",
    "\n",
    "# Set up the enviroment and load the trained agent from directory\n",
    "render_env = gym.make('Hopper-v4', render_mode = 'human')\n",
    "render_agent = PPOAgent(render_env.action_space, render_env.observation_space)\n",
    "\n",
    "# filepath_actor = f\"model/default_MountainCarContinuous_20240104_141521/actor.h5\"\n",
    "# filepath_critic = f\"model/default_MountainCarContinuous_20240104_141521/critic.h5\"\n",
    "\n",
    "#call the function\n",
    "render_GUI(render_env, render_agent, filepath_actor, filepath_critic)\n"
   ]
  }
 ],
 "metadata": {
  "kernelspec": {
   "display_name": "Python 3 (ipykernel)",
   "language": "python",
   "name": "python3"
  },
  "language_info": {
   "codemirror_mode": {
    "name": "ipython",
    "version": 3
   },
   "file_extension": ".py",
   "mimetype": "text/x-python",
   "name": "python",
   "nbconvert_exporter": "python",
   "pygments_lexer": "ipython3",
   "version": "3.11.5"
  }
 },
 "nbformat": 4,
 "nbformat_minor": 5
}
